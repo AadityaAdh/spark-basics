{
 "cells": [
  {
   "cell_type": "code",
   "execution_count": 20,
   "id": "b029e8bb-b500-46d7-9b30-03a751e0b9dc",
   "metadata": {},
   "outputs": [],
   "source": [
    "from pyspark.sql import SparkSession\n",
    "spark = SparkSession.builder \\\n",
    "    .appName(\"test\") \\\n",
    "    .getOrCreate()"
   ]
  },
  {
   "cell_type": "code",
   "execution_count": 21,
   "id": "39d6a125-93de-4959-9ea9-a29e954900a2",
   "metadata": {},
   "outputs": [
    {
     "name": "stderr",
     "output_type": "stream",
     "text": [
      "25/06/27 09:58:40 WARN TextSocketSourceProvider: The socket source should not be used for production applications! It does not support recovery.\n"
     ]
    }
   ],
   "source": [
    "df= spark.readStream.format(\"socket\").option(\"host\", \"localhost\").option(\"port\", 9999).load()"
   ]
  },
  {
   "cell_type": "code",
   "execution_count": 22,
   "id": "1cb359c5-aee0-4c13-82cb-2f4a121100ce",
   "metadata": {},
   "outputs": [],
   "source": [
    "from pyspark.sql.functions import from_json, col, to_timestamp\n",
    "from pyspark.sql.types import StructType, StringType, IntegerType, TimestampType\n",
    "\n",
    "# Define schema including time\n",
    "schema = StructType() \\\n",
    "    .add(\"name\", StringType()) \\\n",
    "    .add(\"age\", IntegerType()) \\\n",
    "    .add(\"event_time\", StringType())  # We’ll convert this to timestamp\n"
   ]
  },
  {
   "cell_type": "code",
   "execution_count": 23,
   "id": "137971ce-1a74-407c-b84e-083703cd29eb",
   "metadata": {},
   "outputs": [],
   "source": [
    "parsed_df = df.select(from_json(col(\"value\"), schema).alias(\"data\")).select(\"data.*\") \\\n",
    "    .withColumn(\"event_time\", to_timestamp(\"event_time\", \"yyyy-MM-dd HH:mm:ss\"))"
   ]
  },
  {
   "cell_type": "code",
   "execution_count": 13,
   "id": "4f503193-fe0d-4def-bf7f-e97857224bf8",
   "metadata": {},
   "outputs": [],
   "source": [
    "result = parsed_df \\\n",
    "    .withWatermark(\"event_time\", \"5 minutes\") \\\n",
    "    .select(\"name\", \"event_time\")\n"
   ]
  },
  {
   "cell_type": "code",
   "execution_count": 14,
   "id": "b20bd45a-1c46-4ce2-ad4c-f61308cd950c",
   "metadata": {},
   "outputs": [
    {
     "data": {
      "text/plain": [
       "{'name': 'Ram', 'age': 25, 'event_time': '2025-06-26 09:50:00'}"
      ]
     },
     "execution_count": 14,
     "metadata": {},
     "output_type": "execute_result"
    }
   ],
   "source": [
    "{\"name\":\"Aaditya\", \"age\":25, \"event_time\":\"2025-06-26 10:00:00\"}\n",
    "{\"name\":\"Bikash\", \"age\":22, \"event_time\":\"2025-06-26 10:03:00\"}\n",
    "{\"name\":\"Ram\", \"age\":25, \"event_time\":\"2025-06-26 09:50:00\"}\n"
   ]
  },
  {
   "cell_type": "code",
   "execution_count": 15,
   "id": "26b3c80a-9e6d-4ec1-8f62-96f20dda55cb",
   "metadata": {
    "collapsed": true,
    "jupyter": {
     "outputs_hidden": true
    }
   },
   "outputs": [
    {
     "name": "stderr",
     "output_type": "stream",
     "text": [
      "25/06/26 17:48:34 WARN ResolveWriteToStream: Temporary checkpoint location created which is deleted normally when the query didn't fail: /tmp/temporary-989de78c-42f3-4144-b0bf-b778dac9299b. If it's required to delete it under any circumstances, please set spark.sql.streaming.forceDeleteTempCheckpointLocation to true. Important to know deleting temp checkpoint folder is best effort.\n",
      "25/06/26 17:48:34 WARN ResolveWriteToStream: spark.sql.adaptive.enabled is not supported in streaming DataFrames/Datasets and will be disabled.\n"
     ]
    },
    {
     "name": "stdout",
     "output_type": "stream",
     "text": [
      "-------------------------------------------\n",
      "Batch: 0\n",
      "-------------------------------------------\n",
      "+----+----------+\n",
      "|name|event_time|\n",
      "+----+----------+\n",
      "+----+----------+\n",
      "\n",
      "-------------------------------------------\n",
      "Batch: 1\n",
      "-------------------------------------------\n",
      "+-------+-------------------+\n",
      "|   name|         event_time|\n",
      "+-------+-------------------+\n",
      "|Aaditya|2025-06-26 10:00:00|\n",
      "+-------+-------------------+\n",
      "\n",
      "-------------------------------------------\n",
      "Batch: 2\n",
      "-------------------------------------------\n",
      "+------+-------------------+\n",
      "|  name|         event_time|\n",
      "+------+-------------------+\n",
      "|Bikash|2025-06-26 10:03:00|\n",
      "+------+-------------------+\n",
      "\n",
      "-------------------------------------------\n",
      "Batch: 3\n",
      "-------------------------------------------\n",
      "+----+-------------------+\n",
      "|name|         event_time|\n",
      "+----+-------------------+\n",
      "| Ram|2025-06-26 09:50:00|\n",
      "+----+-------------------+\n",
      "\n"
     ]
    },
    {
     "name": "stderr",
     "output_type": "stream",
     "text": [
      "                                                                                "
     ]
    },
    {
     "name": "stdout",
     "output_type": "stream",
     "text": [
      "-------------------------------------------\n",
      "Batch: 4\n",
      "-------------------------------------------\n",
      "+-------+-------------------+\n",
      "|   name|         event_time|\n",
      "+-------+-------------------+\n",
      "|Aaditya|2025-06-26 10:00:00|\n",
      "| Bikash|2025-06-26 10:03:00|\n",
      "+-------+-------------------+\n",
      "\n",
      "-------------------------------------------\n",
      "Batch: 5\n",
      "-------------------------------------------\n",
      "+----+-------------------+\n",
      "|name|         event_time|\n",
      "+----+-------------------+\n",
      "| Ram|2025-06-26 09:50:00|\n",
      "+----+-------------------+\n",
      "\n",
      "-------------------------------------------\n",
      "Batch: 6\n",
      "-------------------------------------------\n",
      "+-------+-------------------+\n",
      "|   name|         event_time|\n",
      "+-------+-------------------+\n",
      "|Aaditya|2025-06-26 10:00:00|\n",
      "| Bikash|2025-06-26 10:03:00|\n",
      "|    Ram|2025-06-26 09:50:00|\n",
      "+-------+-------------------+\n",
      "\n"
     ]
    },
    {
     "name": "stderr",
     "output_type": "stream",
     "text": [
      "ERROR:root:KeyboardInterrupt while sending command.\n",
      "Traceback (most recent call last):\n",
      "  File \"/usr/local/lib/python3.9/dist-packages/py4j/java_gateway.py\", line 1038, in send_command\n",
      "    response = connection.send_command(command)\n",
      "  File \"/usr/local/lib/python3.9/dist-packages/py4j/clientserver.py\", line 535, in send_command\n",
      "    answer = smart_decode(self.stream.readline()[:-1])\n",
      "  File \"/usr/lib/python3.9/socket.py\", line 704, in readinto\n",
      "    return self._sock.recv_into(b)\n",
      "KeyboardInterrupt\n"
     ]
    },
    {
     "ename": "KeyboardInterrupt",
     "evalue": "",
     "output_type": "error",
     "traceback": [
      "\u001b[0;31m---------------------------------------------------------------------------\u001b[0m",
      "\u001b[0;31mKeyboardInterrupt\u001b[0m                         Traceback (most recent call last)",
      "Cell \u001b[0;32mIn[15], line 5\u001b[0m\n\u001b[1;32m      1\u001b[0m query \u001b[38;5;241m=\u001b[39m result\u001b[38;5;241m.\u001b[39mwriteStream \\\n\u001b[1;32m      2\u001b[0m     \u001b[38;5;241m.\u001b[39moutputMode(\u001b[38;5;124m\"\u001b[39m\u001b[38;5;124mappend\u001b[39m\u001b[38;5;124m\"\u001b[39m) \\\n\u001b[1;32m      3\u001b[0m     \u001b[38;5;241m.\u001b[39mformat(\u001b[38;5;124m\"\u001b[39m\u001b[38;5;124mconsole\u001b[39m\u001b[38;5;124m\"\u001b[39m) \\\n\u001b[1;32m      4\u001b[0m     \u001b[38;5;241m.\u001b[39mstart()\n\u001b[0;32m----> 5\u001b[0m \u001b[43mquery\u001b[49m\u001b[38;5;241;43m.\u001b[39;49m\u001b[43mawaitTermination\u001b[49m\u001b[43m(\u001b[49m\u001b[43m)\u001b[49m\n",
      "File \u001b[0;32m/usr/local/lib/python3.9/dist-packages/pyspark/sql/streaming/query.py:225\u001b[0m, in \u001b[0;36mStreamingQuery.awaitTermination\u001b[0;34m(self, timeout)\u001b[0m\n\u001b[1;32m    223\u001b[0m     \u001b[38;5;28;01mreturn\u001b[39;00m \u001b[38;5;28mself\u001b[39m\u001b[38;5;241m.\u001b[39m_jsq\u001b[38;5;241m.\u001b[39mawaitTermination(\u001b[38;5;28mint\u001b[39m(timeout \u001b[38;5;241m*\u001b[39m \u001b[38;5;241m1000\u001b[39m))\n\u001b[1;32m    224\u001b[0m \u001b[38;5;28;01melse\u001b[39;00m:\n\u001b[0;32m--> 225\u001b[0m     \u001b[38;5;28;01mreturn\u001b[39;00m \u001b[38;5;28;43mself\u001b[39;49m\u001b[38;5;241;43m.\u001b[39;49m\u001b[43m_jsq\u001b[49m\u001b[38;5;241;43m.\u001b[39;49m\u001b[43mawaitTermination\u001b[49m\u001b[43m(\u001b[49m\u001b[43m)\u001b[49m\n",
      "File \u001b[0;32m/usr/local/lib/python3.9/dist-packages/py4j/java_gateway.py:1361\u001b[0m, in \u001b[0;36mJavaMember.__call__\u001b[0;34m(self, *args)\u001b[0m\n\u001b[1;32m   1354\u001b[0m args_command, temp_args \u001b[38;5;241m=\u001b[39m \u001b[38;5;28mself\u001b[39m\u001b[38;5;241m.\u001b[39m_build_args(\u001b[38;5;241m*\u001b[39margs)\n\u001b[1;32m   1356\u001b[0m command \u001b[38;5;241m=\u001b[39m proto\u001b[38;5;241m.\u001b[39mCALL_COMMAND_NAME \u001b[38;5;241m+\u001b[39m\\\n\u001b[1;32m   1357\u001b[0m     \u001b[38;5;28mself\u001b[39m\u001b[38;5;241m.\u001b[39mcommand_header \u001b[38;5;241m+\u001b[39m\\\n\u001b[1;32m   1358\u001b[0m     args_command \u001b[38;5;241m+\u001b[39m\\\n\u001b[1;32m   1359\u001b[0m     proto\u001b[38;5;241m.\u001b[39mEND_COMMAND_PART\n\u001b[0;32m-> 1361\u001b[0m answer \u001b[38;5;241m=\u001b[39m \u001b[38;5;28;43mself\u001b[39;49m\u001b[38;5;241;43m.\u001b[39;49m\u001b[43mgateway_client\u001b[49m\u001b[38;5;241;43m.\u001b[39;49m\u001b[43msend_command\u001b[49m\u001b[43m(\u001b[49m\u001b[43mcommand\u001b[49m\u001b[43m)\u001b[49m\n\u001b[1;32m   1362\u001b[0m return_value \u001b[38;5;241m=\u001b[39m get_return_value(\n\u001b[1;32m   1363\u001b[0m     answer, \u001b[38;5;28mself\u001b[39m\u001b[38;5;241m.\u001b[39mgateway_client, \u001b[38;5;28mself\u001b[39m\u001b[38;5;241m.\u001b[39mtarget_id, \u001b[38;5;28mself\u001b[39m\u001b[38;5;241m.\u001b[39mname)\n\u001b[1;32m   1365\u001b[0m \u001b[38;5;28;01mfor\u001b[39;00m temp_arg \u001b[38;5;129;01min\u001b[39;00m temp_args:\n",
      "File \u001b[0;32m/usr/local/lib/python3.9/dist-packages/py4j/java_gateway.py:1038\u001b[0m, in \u001b[0;36mGatewayClient.send_command\u001b[0;34m(self, command, retry, binary)\u001b[0m\n\u001b[1;32m   1036\u001b[0m connection \u001b[38;5;241m=\u001b[39m \u001b[38;5;28mself\u001b[39m\u001b[38;5;241m.\u001b[39m_get_connection()\n\u001b[1;32m   1037\u001b[0m \u001b[38;5;28;01mtry\u001b[39;00m:\n\u001b[0;32m-> 1038\u001b[0m     response \u001b[38;5;241m=\u001b[39m \u001b[43mconnection\u001b[49m\u001b[38;5;241;43m.\u001b[39;49m\u001b[43msend_command\u001b[49m\u001b[43m(\u001b[49m\u001b[43mcommand\u001b[49m\u001b[43m)\u001b[49m\n\u001b[1;32m   1039\u001b[0m     \u001b[38;5;28;01mif\u001b[39;00m binary:\n\u001b[1;32m   1040\u001b[0m         \u001b[38;5;28;01mreturn\u001b[39;00m response, \u001b[38;5;28mself\u001b[39m\u001b[38;5;241m.\u001b[39m_create_connection_guard(connection)\n",
      "File \u001b[0;32m/usr/local/lib/python3.9/dist-packages/py4j/clientserver.py:535\u001b[0m, in \u001b[0;36mClientServerConnection.send_command\u001b[0;34m(self, command)\u001b[0m\n\u001b[1;32m    533\u001b[0m \u001b[38;5;28;01mtry\u001b[39;00m:\n\u001b[1;32m    534\u001b[0m     \u001b[38;5;28;01mwhile\u001b[39;00m \u001b[38;5;28;01mTrue\u001b[39;00m:\n\u001b[0;32m--> 535\u001b[0m         answer \u001b[38;5;241m=\u001b[39m smart_decode(\u001b[38;5;28;43mself\u001b[39;49m\u001b[38;5;241;43m.\u001b[39;49m\u001b[43mstream\u001b[49m\u001b[38;5;241;43m.\u001b[39;49m\u001b[43mreadline\u001b[49m\u001b[43m(\u001b[49m\u001b[43m)\u001b[49m[:\u001b[38;5;241m-\u001b[39m\u001b[38;5;241m1\u001b[39m])\n\u001b[1;32m    536\u001b[0m         logger\u001b[38;5;241m.\u001b[39mdebug(\u001b[38;5;124m\"\u001b[39m\u001b[38;5;124mAnswer received: \u001b[39m\u001b[38;5;132;01m{0}\u001b[39;00m\u001b[38;5;124m\"\u001b[39m\u001b[38;5;241m.\u001b[39mformat(answer))\n\u001b[1;32m    537\u001b[0m         \u001b[38;5;66;03m# Happens when a the other end is dead. There might be an empty\u001b[39;00m\n\u001b[1;32m    538\u001b[0m         \u001b[38;5;66;03m# answer before the socket raises an error.\u001b[39;00m\n",
      "File \u001b[0;32m/usr/lib/python3.9/socket.py:704\u001b[0m, in \u001b[0;36mSocketIO.readinto\u001b[0;34m(self, b)\u001b[0m\n\u001b[1;32m    702\u001b[0m \u001b[38;5;28;01mwhile\u001b[39;00m \u001b[38;5;28;01mTrue\u001b[39;00m:\n\u001b[1;32m    703\u001b[0m     \u001b[38;5;28;01mtry\u001b[39;00m:\n\u001b[0;32m--> 704\u001b[0m         \u001b[38;5;28;01mreturn\u001b[39;00m \u001b[38;5;28;43mself\u001b[39;49m\u001b[38;5;241;43m.\u001b[39;49m\u001b[43m_sock\u001b[49m\u001b[38;5;241;43m.\u001b[39;49m\u001b[43mrecv_into\u001b[49m\u001b[43m(\u001b[49m\u001b[43mb\u001b[49m\u001b[43m)\u001b[49m\n\u001b[1;32m    705\u001b[0m     \u001b[38;5;28;01mexcept\u001b[39;00m timeout:\n\u001b[1;32m    706\u001b[0m         \u001b[38;5;28mself\u001b[39m\u001b[38;5;241m.\u001b[39m_timeout_occurred \u001b[38;5;241m=\u001b[39m \u001b[38;5;28;01mTrue\u001b[39;00m\n",
      "\u001b[0;31mKeyboardInterrupt\u001b[0m: "
     ]
    }
   ],
   "source": [
    "query = result.writeStream \\\n",
    "    .outputMode(\"append\") \\\n",
    "    .format(\"console\") \\\n",
    "    .start()\n",
    "query.awaitTermination()"
   ]
  },
  {
   "cell_type": "code",
   "execution_count": 16,
   "id": "39e714f4-ff33-4c78-9365-244f3999b02a",
   "metadata": {},
   "outputs": [],
   "source": [
    "spark.stop()"
   ]
  },
  {
   "cell_type": "markdown",
   "id": "26fc4af1-181d-46fc-848f-67795a904996",
   "metadata": {},
   "source": [
    "# as the last row was still being diplayed ti proves the point that watermarking only works with the stateful operations\n",
    "\n",
    "Batch: 6\n",
    "-------------------------------------------\n",
    "+-------+-------------------+\n",
    "|   name|         event_time|\n",
    "+-------+-------------------+\n",
    "|Aaditya|2025-06-26 10:00:00|\n",
    "| Bikash|2025-06-26 10:03:00|\n",
    "|    Ram|2025-06-26 09:50:00|\n",
    "+-------+-------------------+"
   ]
  },
  {
   "cell_type": "markdown",
   "id": "54444fc7-b19e-4ae6-9e13-e9f13f7766c5",
   "metadata": {},
   "source": [
    "# while with stateful operations visualize it as doing2 things\n",
    "\n",
    "1.dropping the records that are 2 old than the water mark\n",
    "\n",
    "2.dropping the records from state store that has max time less than the watermark watch these 3 videos:\n",
    "\n",
    "\n",
    "    1. https://www.youtube.com/watch?v=a9jNGTe4cyg\n",
    "\n",
    "    2. https://www.youtube.com/watch?v=xZHacxf5uZ8\n",
    "\n",
    "    3. https://www.youtube.com/watch?v=4DT528dAjtU"
   ]
  },
  {
   "cell_type": "code",
   "execution_count": 25,
   "id": "f73ea007-d129-4873-aec6-0d0ae3d1fab3",
   "metadata": {},
   "outputs": [],
   "source": [
    "# note water mark ko 1st argument vane ko event time column ho hai\n",
    "# aafai le time chalu garni chai haina hai spark le\n",
    "# max kati time vako event aako xa\n",
    "# tyo herxa aani yeti bhaji sake xa vanthanxa\n",
    "# so tyo max-watermark delay garxa\n",
    "# tyo valae ko water mark value vayo\n",
    "# water mark vanda old data drop \n",
    "# aani state pani water mark vanda old drop"
   ]
  },
  {
   "cell_type": "code",
   "execution_count": 26,
   "id": "ca684680-3127-4319-975d-17b65b723bc6",
   "metadata": {},
   "outputs": [],
   "source": [
    "# lets do an example"
   ]
  },
  {
   "cell_type": "code",
   "execution_count": 32,
   "id": "5ad0b681-ca0f-40a3-9732-72dd9dd19efb",
   "metadata": {},
   "outputs": [],
   "source": [
    "from pyspark.sql.functions import window,count"
   ]
  },
  {
   "cell_type": "code",
   "execution_count": 33,
   "id": "9f6049ca-1ae9-4960-9900-ab2e76149877",
   "metadata": {},
   "outputs": [],
   "source": [
    "new_result=parsed_df.withWatermark(\"event_time\", \"5 minutes\").groupBy(window(\"event_time\", \"10 minutes\")).agg(count(\"*\"))"
   ]
  },
  {
   "cell_type": "markdown",
   "id": "08d0ac88-69e7-4f1b-993b-265d401db496",
   "metadata": {},
   "source": [
    "# yesari bhujam\n",
    "paxadi ko agg vanae ko stateful operation ho \n",
    "\n",
    "so paila hamlae group banaudai xam window wise\n",
    "\n",
    "as specified of 10 minutes\n",
    "\n",
    "x:x:x-x:x:x yesto window ko group haru banni vayo\n",
    "\n",
    "aani yo window yeuta group jasto vayo\n",
    "\n",
    "yesma parni data ko aggregrate gare ko ta ho ni normal sql jastai\n",
    "\n",
    "window vanae ko yeuta grouping ko basis or key jasto vanthanam na\n",
    "\n",
    "\n",
    "yedi window le group na garni vayae kunai aaru column le ni garna ta milyo\n",
    "\n",
    "tara tyo expire garna or indefinite grow huna rokna kei mechanish ta launu paryo \n",
    "\n",
    "as water mark le ta time basis ma kaam garxa\n",
    "\n",
    "so we use arbitary stateful operations in that case\n",
    "\n",
    "as water mark le vanxa yo time vanda aagadi ko state lai nikala \n",
    "\n",
    "but hamlae group by some key garyoum vanae ta \n",
    "\n",
    "kasari milyo ra ni "
   ]
  },
  {
   "cell_type": "code",
   "execution_count": null,
   "id": "81bd9479-7532-4632-a454-50d7b6392135",
   "metadata": {},
   "outputs": [],
   "source": []
  },
  {
   "cell_type": "code",
   "execution_count": null,
   "id": "b1ddee6b-76e7-4f7b-a135-1819566d87a4",
   "metadata": {},
   "outputs": [],
   "source": [
    "query = new_result.writeStream \\\n",
    "    .outputMode(\"complete\") \\\n",
    "    .format(\"console\") \\\n",
    "    .start()\n",
    "\n",
    "query.awaitTermination()"
   ]
  }
 ],
 "metadata": {
  "kernelspec": {
   "display_name": "Python 3 (ipykernel)",
   "language": "python",
   "name": "python3"
  },
  "language_info": {
   "codemirror_mode": {
    "name": "ipython",
    "version": 3
   },
   "file_extension": ".py",
   "mimetype": "text/x-python",
   "name": "python",
   "nbconvert_exporter": "python",
   "pygments_lexer": "ipython3",
   "version": "3.9.2"
  }
 },
 "nbformat": 4,
 "nbformat_minor": 5
}
