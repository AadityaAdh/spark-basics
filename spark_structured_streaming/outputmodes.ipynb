{
 "cells": [
  {
   "cell_type": "code",
   "execution_count": 1,
   "id": "b0a3656d-3670-4ec7-97ff-7b7df8f6f7d0",
   "metadata": {},
   "outputs": [],
   "source": [
    "# yesari bhujam "
   ]
  },
  {
   "cell_type": "markdown",
   "id": "22d28a38-9c94-477c-8b93-0c7b2ef0c4fe",
   "metadata": {},
   "source": [
    "mode here ra kaam hunxa\n",
    "\n",
    "yedi append xa vanae yellae k vanna khoje ko vanae mero yo row final ho hai jati oota nawa row aaye pani row final ho yo vanae ko eg \n",
    "\n",
    "select statement\n",
    "\n",
    "aggregrations but with watermark\n",
    "\n",
    "so water mark sakkae paxi ta tyo row final ta ho ni\n",
    "\n",
    "\n",
    "but complete ra update le chai ,\n",
    "\n",
    "aailae samman data ko lagi vanni kura ho\n",
    "\n",
    "so aggregrations use complete and update mode"
   ]
  },
  {
   "cell_type": "markdown",
   "id": "1045643f-68c7-4752-bc6c-9b96efc7cca2",
   "metadata": {},
   "source": [
    "# mode here ra kaam hunxa hola hai bhujna ko lagi chai aaba yesari bhujam\n",
    "\n",
    "dstream ko mode herinxa paila\n",
    "\n",
    "aani sabbai step ko output chai yo mode aanusar hunxa yesari bhujam aaba\n",
    "\n",
    "\n",
    "jastai \n",
    "\n",
    "df=read\n",
    "df1=select\n",
    "df2=aggregrate\n",
    "df3=select ->to do alias\n",
    "bla bla bla\n",
    "\n",
    "df3.output mode update xa vanae\n",
    "\n",
    "select bata ta sabbai aauxa\n",
    "\n",
    "tara yo aggregration ta stateful ho so\n",
    "\n",
    "so state store pani hunxa yesko\n",
    "\n",
    "yesko use lae aailae samman ko aggregration garinxa\n",
    "\n",
    "output mode herinxa aaba  update xa so updated row matra vako dataframe falinxa\n",
    "\n",
    "jun jun row update vaa xa state store ma tyo tyo row vako dataframe fainxa\n",
    "\n",
    "df3 ma chai tyo updated row ko dataframe xa so .....\n",
    "\n"
   ]
  },
  {
   "cell_type": "code",
   "execution_count": null,
   "id": "42157c7c-4ddd-4105-b467-f1fc10a33362",
   "metadata": {},
   "outputs": [],
   "source": []
  },
  {
   "cell_type": "code",
   "execution_count": null,
   "id": "0fb4d0d8-90ad-455d-92af-1cf98b3afab6",
   "metadata": {},
   "outputs": [],
   "source": []
  }
 ],
 "metadata": {
  "kernelspec": {
   "display_name": "Python 3 (ipykernel)",
   "language": "python",
   "name": "python3"
  },
  "language_info": {
   "codemirror_mode": {
    "name": "ipython",
    "version": 3
   },
   "file_extension": ".py",
   "mimetype": "text/x-python",
   "name": "python",
   "nbconvert_exporter": "python",
   "pygments_lexer": "ipython3",
   "version": "3.9.2"
  }
 },
 "nbformat": 4,
 "nbformat_minor": 5
}
