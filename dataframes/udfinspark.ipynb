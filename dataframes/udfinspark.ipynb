{
 "cells": [
  {
   "cell_type": "code",
   "execution_count": 3,
   "id": "756986bf-db11-49aa-b04f-0b7dc821d993",
   "metadata": {},
   "outputs": [
    {
     "name": "stderr",
     "output_type": "stream",
     "text": [
      "WARNING: Using incubator modules: jdk.incubator.vector\n",
      "Using Spark's default log4j profile: org/apache/spark/log4j2-defaults.properties\n",
      "Setting default log level to \"WARN\".\n",
      "To adjust logging level use sc.setLogLevel(newLevel). For SparkR, use setLogLevel(newLevel).\n",
      "25/06/24 12:09:56 WARN NativeCodeLoader: Unable to load native-hadoop library for your platform... using builtin-java classes where applicable\n"
     ]
    }
   ],
   "source": [
    "from pyspark.sql import SparkSession\n",
    "spark = SparkSession.builder \\\n",
    "    .appName(\"JupyterStandalo\") \\\n",
    "    .master(\"spark://8fa087ac675c:7077\") \\\n",
    "    .config(\"spark.executor.instances\", \"3\") \\\n",
    "    .config(\"spark.executor.cores\", \"6\") \\\n",
    "    .config(\"spark.executor.memory\", \"2g\") \\\n",
    "    .getOrCreate()"
   ]
  },
  {
   "cell_type": "code",
   "execution_count": 4,
   "id": "2d13407d-e9fe-4734-81c1-ba96c67301e7",
   "metadata": {},
   "outputs": [],
   "source": [
    "from pyspark.sql.types import StructType, StructField, StringType, IntegerType, FloatType\n",
    "# Initialize our data\n",
    "data2 = [(\"Pulkit\", 12, \"CS32\", 82, \"Programming\"),\n",
    "         (\"Ritika\", 20, \"CS32\", 94, \"Writing\"),\n",
    "         (\"Atirikt\", 4, \"BB21\", 78, None),\n",
    "         (\"Reshav\", 18, None, 56, None)\n",
    "         ]\n",
    "\n",
    "# Start spark session\n",
    "\n",
    "# Define schema\n",
    "schema = StructType([\n",
    "    StructField(\"Name\", StringType(), True),\n",
    "    StructField(\"Roll Number\", IntegerType(), True),\n",
    "    StructField(\"Class ID\", StringType(), True),\n",
    "    StructField(\"Marks\", IntegerType(), True),\n",
    "    StructField(\"Extracurricular\", StringType(), True)\n",
    "])\n",
    "\n",
    "# read the dataframe\n",
    "df = spark.createDataFrame(data=data2, schema=schema)"
   ]
  },
  {
   "cell_type": "code",
   "execution_count": 5,
   "id": "1864595f-15ae-48d5-8f03-081bed6d0621",
   "metadata": {},
   "outputs": [
    {
     "name": "stderr",
     "output_type": "stream",
     "text": [
      "[Stage 1:>                                                          (0 + 1) / 1]"
     ]
    },
    {
     "name": "stdout",
     "output_type": "stream",
     "text": [
      "+-------+-----------+--------+-----+---------------+\n",
      "|   Name|Roll Number|Class ID|Marks|Extracurricular|\n",
      "+-------+-----------+--------+-----+---------------+\n",
      "| Pulkit|         12|    CS32|   82|    Programming|\n",
      "| Ritika|         20|    CS32|   94|        Writing|\n",
      "|Atirikt|          4|    BB21|   78|           NULL|\n",
      "| Reshav|         18|    NULL|   56|           NULL|\n",
      "+-------+-----------+--------+-----+---------------+\n",
      "\n"
     ]
    },
    {
     "name": "stderr",
     "output_type": "stream",
     "text": [
      "                                                                                "
     ]
    }
   ],
   "source": [
    "df.show()"
   ]
  },
  {
   "cell_type": "code",
   "execution_count": 8,
   "id": "475cbfc1-ff7e-4ec0-bd2a-496432909c59",
   "metadata": {},
   "outputs": [],
   "source": [
    "def change_upper(s):\n",
    "    return s.upper()"
   ]
  },
  {
   "cell_type": "code",
   "execution_count": 9,
   "id": "a3871a09-028d-412e-a827-c0dfa714db06",
   "metadata": {},
   "outputs": [],
   "source": [
    "from pyspark.sql.functions import udf\n",
    "from pyspark.sql.types import StringType\n",
    "\n",
    "upper_udf = udf(change_upper, StringType())   # note documentation ma lambda ma hale ko xa yo function lai ni tara pardo rainxa"
   ]
  },
  {
   "cell_type": "code",
   "execution_count": 10,
   "id": "246cfe87-95c1-422f-9c2c-763eb504750f",
   "metadata": {},
   "outputs": [],
   "source": [
    "from pyspark.sql.functions import col"
   ]
  },
  {
   "cell_type": "code",
   "execution_count": 11,
   "id": "431dc12e-6649-4d0b-a75a-0443a8b39e4c",
   "metadata": {},
   "outputs": [],
   "source": [
    "df1 = df.withColumn(\"Name_Upper\", upper_udf(col(\"Name\")))"
   ]
  },
  {
   "cell_type": "code",
   "execution_count": 12,
   "id": "d5437c32-cb7e-4205-9e1b-4f638a524b6a",
   "metadata": {},
   "outputs": [
    {
     "name": "stderr",
     "output_type": "stream",
     "text": [
      "[Stage 3:>                                                          (0 + 1) / 1]"
     ]
    },
    {
     "name": "stdout",
     "output_type": "stream",
     "text": [
      "+-------+-----------+--------+-----+---------------+----------+\n",
      "|   Name|Roll Number|Class ID|Marks|Extracurricular|Name_Upper|\n",
      "+-------+-----------+--------+-----+---------------+----------+\n",
      "| Pulkit|         12|    CS32|   82|    Programming|    PULKIT|\n",
      "| Ritika|         20|    CS32|   94|        Writing|    RITIKA|\n",
      "|Atirikt|          4|    BB21|   78|           NULL|   ATIRIKT|\n",
      "| Reshav|         18|    NULL|   56|           NULL|    RESHAV|\n",
      "+-------+-----------+--------+-----+---------------+----------+\n",
      "\n"
     ]
    },
    {
     "name": "stderr",
     "output_type": "stream",
     "text": [
      "                                                                                "
     ]
    }
   ],
   "source": [
    "df1.show()"
   ]
  },
  {
   "cell_type": "code",
   "execution_count": null,
   "id": "eef251b4-600f-4036-b1c7-cad5b0959549",
   "metadata": {},
   "outputs": [],
   "source": []
  }
 ],
 "metadata": {
  "kernelspec": {
   "display_name": "Python 3 (ipykernel)",
   "language": "python",
   "name": "python3"
  },
  "language_info": {
   "codemirror_mode": {
    "name": "ipython",
    "version": 3
   },
   "file_extension": ".py",
   "mimetype": "text/x-python",
   "name": "python",
   "nbconvert_exporter": "python",
   "pygments_lexer": "ipython3",
   "version": "3.9.2"
  }
 },
 "nbformat": 4,
 "nbformat_minor": 5
}
