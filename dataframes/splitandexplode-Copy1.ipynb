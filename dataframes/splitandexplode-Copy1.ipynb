{
 "cells": [
  {
   "cell_type": "code",
   "execution_count": 1,
   "id": "4b4fd932-be7f-4e2e-b7f0-24c4c54870be",
   "metadata": {},
   "outputs": [
    {
     "name": "stderr",
     "output_type": "stream",
     "text": [
      "WARNING: Using incubator modules: jdk.incubator.vector\n",
      "Using Spark's default log4j profile: org/apache/spark/log4j2-defaults.properties\n",
      "Setting default log level to \"WARN\".\n",
      "To adjust logging level use sc.setLogLevel(newLevel). For SparkR, use setLogLevel(newLevel).\n",
      "25/06/25 07:49:13 WARN NativeCodeLoader: Unable to load native-hadoop library for your platform... using builtin-java classes where applicable\n"
     ]
    }
   ],
   "source": [
    "from pyspark.sql import SparkSession\n",
    "spark = SparkSession.builder \\\n",
    "    .appName(\"JupyterStandalone\") \\\n",
    "    .master(\"spark://8fa087ac675c:7077\") \\\n",
    "    .config(\"spark.executor.instances\", \"1\") \\\n",
    "    .config(\"spark.executor.cores\", \"2\") \\\n",
    "    .config(\"spark.executor.memory\", \"2g\") \\\n",
    "    .getOrCreate()"
   ]
  },
  {
   "cell_type": "code",
   "execution_count": 2,
   "id": "47165d62-5334-4279-9c3c-1c7083e9d582",
   "metadata": {},
   "outputs": [],
   "source": [
    "from pyspark.sql.types import StructType, StructField, StringType, IntegerType, FloatType\n",
    "# Initialize our data\n",
    "data2 = [(\"Pulkit dadadf\", 12, \"CS32\", 82, \"Programming\"),\n",
    "         (\"Ritika jdakja\", 20, \"CS32\", 94, \"Writing\"),\n",
    "         (\"Atirikt dajak\", 4, \"BB21\", 78, None),\n",
    "         (\"Reshav jakjfa\", 18, None, 56, None)\n",
    "         ]\n",
    "\n",
    "# Start spark session\n",
    "\n",
    "# Define schema\n",
    "schema = StructType([\n",
    "    StructField(\"Name\", StringType(), True),\n",
    "    StructField(\"Roll Number\", IntegerType(), True),\n",
    "    StructField(\"Class ID\", StringType(), True),\n",
    "    StructField(\"Marks\", IntegerType(), True),\n",
    "    StructField(\"Extracurricular\", StringType(), True)\n",
    "])\n",
    "\n",
    "# read the dataframe\n",
    "df = spark.createDataFrame(data=data2, schema=schema)"
   ]
  },
  {
   "cell_type": "code",
   "execution_count": 3,
   "id": "7c8f97b5-24c0-4b4d-bd81-dbd2c6eea13e",
   "metadata": {},
   "outputs": [],
   "source": [
    "# spilt le array dinxa same like python\n"
   ]
  },
  {
   "cell_type": "code",
   "execution_count": 4,
   "id": "d59c81bb-08c1-4dda-ab5d-af1ffe71e5e6",
   "metadata": {},
   "outputs": [],
   "source": [
    "df.createOrReplaceTempView(\"my_table\")"
   ]
  },
  {
   "cell_type": "code",
   "execution_count": 5,
   "id": "3dfb2fbd-31db-4363-ad8c-d0c1903a0b5a",
   "metadata": {},
   "outputs": [
    {
     "name": "stderr",
     "output_type": "stream",
     "text": [
      "                                                                                "
     ]
    },
    {
     "name": "stdout",
     "output_type": "stream",
     "text": [
      "+------------------+\n",
      "|split(Name,  , -1)|\n",
      "+------------------+\n",
      "|  [Pulkit, dadadf]|\n",
      "|  [Ritika, jdakja]|\n",
      "|  [Atirikt, dajak]|\n",
      "|  [Reshav, jakjfa]|\n",
      "+------------------+\n",
      "\n"
     ]
    }
   ],
   "source": [
    "spark.sql(\"\"\"select split(Name,\" \") from my_table\"\"\").show()"
   ]
  },
  {
   "cell_type": "code",
   "execution_count": 6,
   "id": "29899ac1-6646-4531-bcdf-f4bc82f7c1d7",
   "metadata": {},
   "outputs": [],
   "source": [
    "# aaba array ma na rakhi pulkit yeuta dadadf aarko row \n",
    "# example herni siddai bhujinxa"
   ]
  },
  {
   "cell_type": "code",
   "execution_count": 7,
   "id": "45e99d08-d8d0-4a9d-8583-ac4bd15f77b3",
   "metadata": {},
   "outputs": [
    {
     "name": "stdout",
     "output_type": "stream",
     "text": [
      "+-------+\n",
      "|    col|\n",
      "+-------+\n",
      "| Pulkit|\n",
      "| dadadf|\n",
      "| Ritika|\n",
      "| jdakja|\n",
      "|Atirikt|\n",
      "|  dajak|\n",
      "| Reshav|\n",
      "| jakjfa|\n",
      "+-------+\n",
      "\n"
     ]
    }
   ],
   "source": [
    "spark.sql(\"\"\"select explode(split(Name,\" \")) from my_table\"\"\").show()"
   ]
  },
  {
   "cell_type": "code",
   "execution_count": 8,
   "id": "9bdea241-f1d7-496d-b79f-346ae1ba87c1",
   "metadata": {},
   "outputs": [],
   "source": [
    "spark.stop()"
   ]
  },
  {
   "cell_type": "code",
   "execution_count": null,
   "id": "d1154868-31e3-45ad-b3ee-e10627d5c781",
   "metadata": {},
   "outputs": [],
   "source": []
  }
 ],
 "metadata": {
  "kernelspec": {
   "display_name": "Python 3 (ipykernel)",
   "language": "python",
   "name": "python3"
  },
  "language_info": {
   "codemirror_mode": {
    "name": "ipython",
    "version": 3
   },
   "file_extension": ".py",
   "mimetype": "text/x-python",
   "name": "python",
   "nbconvert_exporter": "python",
   "pygments_lexer": "ipython3",
   "version": "3.9.2"
  }
 },
 "nbformat": 4,
 "nbformat_minor": 5
}
