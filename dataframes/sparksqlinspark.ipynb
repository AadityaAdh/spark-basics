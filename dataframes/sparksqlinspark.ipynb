{
 "cells": [
  {
   "cell_type": "markdown",
   "id": "02a56575-49e2-4618-a0bd-6a1b4ad88112",
   "metadata": {},
   "source": [
    "# spark sql\n",
    "\n",
    "Exactly! ✅ **It does *not* create a physical table** in any storage system like Hive, a database, or disk.\n",
    "\n",
    "---\n",
    "\n",
    "### 🔍 What `createOrReplaceTempView(\"my_table\")` really does:\n",
    "\n",
    "* It **registers a logical name** (`\"my_table\"`) for a DataFrame **inside Spark's session catalog**.\n",
    "* It is a **temporary in-memory reference**.\n",
    "* It's like saying:\n",
    "\n",
    "  > “Hey Spark, if someone runs a SQL query on `my_table`, use this DataFrame.”\n",
    "\n",
    "---\n",
    "\n",
    "### ❌ It does NOT:\n",
    "\n",
    "* Store any data on disk.\n",
    "* Create a real table in Hive or an external database.\n",
    "* Persist the table across sessions.\n",
    "\n",
    "---\n",
    "\n",
    "### ✅ It DOES:\n",
    "\n",
    "* Allow you to use SQL queries on your DataFrame:\n",
    "\n",
    "  ```python\n",
    "  spark.sql(\"SELECT * FROM my_table WHERE age > 25\").show()\n",
    "  ```\n",
    "* Exist only for the duration of the current Spark session.\n",
    "\n",
    "---\n",
    "\n",
    "### 🔄 If you want to create an actual table:\n",
    "\n",
    "Use:\n",
    "\n",
    "```python\n",
    "df.write.saveAsTable(\"permanent_table\")\n",
    "```\n",
    "\n",
    "This will store data in Hive (or a metastore) if configured.\n",
    "\n",
    "---\n",
    "\n",
    "### 🧠 TL;DR\n",
    "\n",
    "| Action                      | Creates a real table? | Stored on disk? | Survives session? |\n",
    "| --------------------------- | --------------------- | --------------- | ----------------- |\n",
    "| `createOrReplaceTempView()` | ❌ No                  | ❌ No            | ❌ No              |\n",
    "| `df.write.saveAsTable()`    | ✅ Yes (Hive)          | ✅ Yes           | ✅ Yes             |\n",
    "\n",
    "---\n",
    "\n",
    "Let me know if you're using Hive or want to save a DataFrame as a real table!\n"
   ]
  },
  {
   "cell_type": "code",
   "execution_count": 4,
   "id": "7ec1868f-b259-4ec0-ae57-4e99e4836d0d",
   "metadata": {},
   "outputs": [],
   "source": [
    "# so simply it doesnt do anything like creating tables or persisiting its just a reference to the spqrk sql -brian copler ,spark streaming infoq\n",
    "\n",
    "# just to make this df visible in sql land"
   ]
  },
  {
   "cell_type": "code",
   "execution_count": 2,
   "id": "b0b82dd3-b600-4e0e-943b-652e724c0371",
   "metadata": {},
   "outputs": [
    {
     "name": "stderr",
     "output_type": "stream",
     "text": [
      "WARNING: Using incubator modules: jdk.incubator.vector\n",
      "Using Spark's default log4j profile: org/apache/spark/log4j2-defaults.properties\n",
      "Setting default log level to \"WARN\".\n",
      "To adjust logging level use sc.setLogLevel(newLevel). For SparkR, use setLogLevel(newLevel).\n",
      "25/06/24 12:35:43 WARN NativeCodeLoader: Unable to load native-hadoop library for your platform... using builtin-java classes where applicable\n",
      "25/06/24 12:35:43 WARN Utils: Service 'SparkUI' could not bind on port 4040. Attempting port 4041.\n"
     ]
    }
   ],
   "source": [
    "from pyspark.sql import SparkSession\n",
    "spark = SparkSession.builder \\\n",
    "    .appName(\"JupyterStandalo\") \\\n",
    "    .master(\"spark://8fa087ac675c:7077\") \\\n",
    "    .config(\"spark.executor.instances\", \"3\") \\\n",
    "    .config(\"spark.executor.cores\", \"6\") \\\n",
    "    .config(\"spark.executor.memory\", \"2g\") \\\n",
    "    .getOrCreate()"
   ]
  },
  {
   "cell_type": "code",
   "execution_count": 3,
   "id": "dce575eb-0235-4445-81fa-30376c3cad4c",
   "metadata": {},
   "outputs": [],
   "source": [
    "from pyspark.sql.types import StructType, StructField, StringType, IntegerType, FloatType\n",
    "# Initialize our data\n",
    "data2 = [(\"Pulkit\", 12, \"CS32\", 82, \"Programming\"),\n",
    "         (\"Ritika\", 20, \"CS32\", 94, \"Writing\"),\n",
    "         (\"Atirikt\", 4, \"BB21\", 78, None),\n",
    "         (\"Reshav\", 18, None, 56, None)\n",
    "         ]\n",
    "\n",
    "# Start spark session\n",
    "\n",
    "# Define schema\n",
    "schema = StructType([\n",
    "    StructField(\"Name\", StringType(), True),\n",
    "    StructField(\"Roll Number\", IntegerType(), True),\n",
    "    StructField(\"Class ID\", StringType(), True),\n",
    "    StructField(\"Marks\", IntegerType(), True),\n",
    "    StructField(\"Extracurricular\", StringType(), True)\n",
    "])\n",
    "\n",
    "# read the dataframe\n",
    "df = spark.createDataFrame(data=data2, schema=schema)"
   ]
  },
  {
   "cell_type": "code",
   "execution_count": 6,
   "id": "0b62ded3-c722-4fe0-80c7-72a63b64f336",
   "metadata": {},
   "outputs": [],
   "source": [
    "df.createOrReplaceTempView(\"my_table\")\n"
   ]
  },
  {
   "cell_type": "code",
   "execution_count": 7,
   "id": "dda65008-c04e-494b-bd12-8b47151d02df",
   "metadata": {},
   "outputs": [],
   "source": [
    "# note that this my_table is avaiable in this session only so \n",
    "\n",
    "#The temporary table is scoped to the SparkSession in which it was created"
   ]
  },
  {
   "cell_type": "code",
   "execution_count": 8,
   "id": "a8cdcd96-b3c2-4203-9924-f454dc1892ed",
   "metadata": {},
   "outputs": [],
   "source": [
    "df1=spark.sql(\"\"\"select * from my_table\"\"\")"
   ]
  },
  {
   "cell_type": "code",
   "execution_count": 9,
   "id": "03051b99-ad46-4c25-a271-09f44e34e71f",
   "metadata": {},
   "outputs": [
    {
     "name": "stderr",
     "output_type": "stream",
     "text": [
      "[Stage 1:>                                                          (0 + 1) / 1]"
     ]
    },
    {
     "name": "stdout",
     "output_type": "stream",
     "text": [
      "+-------+-----------+--------+-----+---------------+\n",
      "|   Name|Roll Number|Class ID|Marks|Extracurricular|\n",
      "+-------+-----------+--------+-----+---------------+\n",
      "| Pulkit|         12|    CS32|   82|    Programming|\n",
      "| Ritika|         20|    CS32|   94|        Writing|\n",
      "|Atirikt|          4|    BB21|   78|           NULL|\n",
      "| Reshav|         18|    NULL|   56|           NULL|\n",
      "+-------+-----------+--------+-----+---------------+\n",
      "\n"
     ]
    },
    {
     "name": "stderr",
     "output_type": "stream",
     "text": [
      "                                                                                "
     ]
    }
   ],
   "source": [
    "df1.show()"
   ]
  },
  {
   "cell_type": "code",
   "execution_count": 10,
   "id": "0c453dfd-93fc-4afb-b2cb-4633f160747e",
   "metadata": {},
   "outputs": [],
   "source": [
    "# now you can do as much sql as you want"
   ]
  },
  {
   "cell_type": "code",
   "execution_count": null,
   "id": "fb28418c-3e79-4346-ad7c-50c3763404ac",
   "metadata": {},
   "outputs": [],
   "source": []
  }
 ],
 "metadata": {
  "kernelspec": {
   "display_name": "Python 3 (ipykernel)",
   "language": "python",
   "name": "python3"
  },
  "language_info": {
   "codemirror_mode": {
    "name": "ipython",
    "version": 3
   },
   "file_extension": ".py",
   "mimetype": "text/x-python",
   "name": "python",
   "nbconvert_exporter": "python",
   "pygments_lexer": "ipython3",
   "version": "3.9.2"
  }
 },
 "nbformat": 4,
 "nbformat_minor": 5
}
