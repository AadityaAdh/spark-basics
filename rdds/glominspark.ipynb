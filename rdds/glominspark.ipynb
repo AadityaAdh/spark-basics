{
 "cells": [
  {
   "cell_type": "code",
   "execution_count": 1,
   "id": "3e4a0e2e-c79f-4f83-8808-d4b22fc9bbc8",
   "metadata": {},
   "outputs": [
    {
     "name": "stderr",
     "output_type": "stream",
     "text": [
      "WARNING: Using incubator modules: jdk.incubator.vector\n",
      "Using Spark's default log4j profile: org/apache/spark/log4j2-defaults.properties\n",
      "Setting default log level to \"WARN\".\n",
      "To adjust logging level use sc.setLogLevel(newLevel). For SparkR, use setLogLevel(newLevel).\n",
      "25/06/23 09:31:44 WARN NativeCodeLoader: Unable to load native-hadoop library for your platform... using builtin-java classes where applicable\n"
     ]
    }
   ],
   "source": [
    "from pyspark.sql import SparkSession\n",
    "spark = SparkSession.builder \\\n",
    "    .appName(\"JupyterStandalone\") \\\n",
    "    .master(\"spark://8fa087ac675c:7077\") \\\n",
    "    .config(\"spark.executor.instances\", \"1\") \\\n",
    "    .config(\"spark.executor.cores\", \"2\") \\\n",
    "    .config(\"spark.executor.memory\", \"1g\") \\\n",
    "    .getOrCreate()"
   ]
  },
  {
   "cell_type": "code",
   "execution_count": 2,
   "id": "49dfe0d8-ad56-4c5c-a23d-5394587ffff7",
   "metadata": {},
   "outputs": [],
   "source": [
    "sc = spark.sparkContext"
   ]
  },
  {
   "cell_type": "code",
   "execution_count": 3,
   "id": "f875934a-5d99-4dd1-be0b-6aaab0f6b1e3",
   "metadata": {},
   "outputs": [],
   "source": [
    "rdd1=sc.parallelize([i for i in range(10)])"
   ]
  },
  {
   "cell_type": "code",
   "execution_count": 4,
   "id": "59ab567f-6d9d-4b8c-984b-d1b01336dd1a",
   "metadata": {},
   "outputs": [
    {
     "data": {
      "text/plain": [
       "12"
      ]
     },
     "execution_count": 4,
     "metadata": {},
     "output_type": "execute_result"
    }
   ],
   "source": [
    "rdd1.getNumPartitions()"
   ]
  },
  {
   "cell_type": "code",
   "execution_count": 5,
   "id": "e67a37ce-be07-4603-98bc-dbba2d9b86e7",
   "metadata": {},
   "outputs": [
    {
     "name": "stdout",
     "output_type": "stream",
     "text": [
      "PythonRDD[1] at RDD at PythonRDD.scala:56\n"
     ]
    }
   ],
   "source": [
    "print(rdd1.glom())"
   ]
  },
  {
   "cell_type": "markdown",
   "id": "0e0e5090-e04a-4e45-8ee0-5240fe50d30c",
   "metadata": {},
   "source": [
    "Great question! Here’s a simple explanation of **`glom()`** in Spark:\n",
    "\n",
    "---\n",
    "\n",
    "### What does `glom()` do?\n",
    "\n",
    "* **`glom()`** transforms each partition of an RDD into a **list (or array) of all elements in that partition**.\n",
    "* It returns an RDD where **each element is a list containing all the items of one partition**.\n",
    "\n",
    "---\n",
    "\n",
    "### Why use `glom()`?\n",
    "\n",
    "* Useful to **inspect or debug data partitioning**.\n",
    "* Lets you see how data is grouped inside partitions.\n",
    "* Helps when you want to perform operations on entire partitions as a unit.\n",
    "\n",
    "---\n",
    "\n",
    "### Example:\n",
    "\n",
    "```python\n",
    "rdd = sc.parallelize([1, 2, 3, 4, 5, 6], 3)  # 3 partitions\n",
    "\n",
    "print(rdd.glom().collect())\n",
    "```\n",
    "\n",
    "**Output:**\n",
    "\n",
    "```\n",
    "[[1, 2], [3, 4], [5, 6]]\n",
    "```\n",
    "\n",
    "Explanation:\n",
    "\n",
    "* The RDD is split into 3 partitions.\n",
    "* `glom()` collects all elements of each partition into a list.\n",
    "* So you get a list of lists, one per partition.\n",
    "\n",
    "---\n",
    "\n",
    "### Summary:\n",
    "\n",
    "| Input RDD partitions | Output of `glom()` |\n",
    "| -------------------- | ------------------ |\n",
    "| Partition 1: 1, 2    | \\[1, 2]            |\n",
    "| Partition 2: 3, 4    | \\[3, 4]            |\n",
    "| Partition 3: 5, 6    | \\[5, 6]            |\n",
    "\n",
    "`glom()` output: `[[1, 2], [3, 4], [5, 6]]`\n",
    "\n",
    "---\n",
    "\n",
    "If you want, I can show you how to use it in your Spark code!\n"
   ]
  },
  {
   "cell_type": "markdown",
   "id": "4a217bba-4433-4177-89c4-7870a251e9b7",
   "metadata": {},
   "source": [
    "# glom le k garxa vanae\n",
    "yo pani yeuta transformation nai ho\n",
    "\n",
    "yelle ni rdd nai return garxa\n",
    "\n",
    "yelle k garxa vane hamlae partition garxam \n",
    "\n",
    "partition ma kati element hunxa\n",
    "\n",
    "\n",
    "but if we want only one element in a partition then it is useful\n",
    "\n",
    "\n",
    "vanna khoje ko from n no of elements in the partition create a partition that has only one element ie list and that list contains all the element in that previous partitions"
   ]
  },
  {
   "cell_type": "markdown",
   "id": "1d478089-dd04-4e6e-828a-5164f18fd58d",
   "metadata": {},
   "source": [
    "Ho, timro bujhāi almost correct cha — ma tyo lai ekdam simple ra sahaj tarikale summarise garera bujhaunchu:\n",
    "\n",
    "---\n",
    "\n",
    "## ✅ `glom()` ke garxa?\n",
    "\n",
    "* `glom()` **Spark ko transformation** ho.\n",
    "* Yo le **har ek partition lai ek list ma halcha** — tyo list ma tyo partition bhitra ko sabai elements huncha.\n",
    "* Return huney pani **RDD nai ho**, tara **each element is a list**.\n",
    "\n",
    "---\n",
    "\n",
    "## 🔍 Bujhna sajilo example:\n",
    "\n",
    "```python\n",
    "rdd = sc.parallelize([1, 2, 3, 4, 5, 6], 3)\n",
    "rdd.glom().collect()\n",
    "```\n",
    "\n",
    "Output:\n",
    "\n",
    "```\n",
    "[[1, 2], [3, 4], [5, 6]]\n",
    "```\n",
    "\n",
    "Explanation:\n",
    "\n",
    "* 3 partitions banae.\n",
    "* `glom()` le har ek partition ma vayeko elements lai ek ota list ma halcha.\n",
    "* Aba RDD ko har ek element euta list nai huncha.\n",
    "\n",
    "---\n",
    "\n",
    "## 🔁 Timro kura — “ek partition, ek list”:\n",
    "\n",
    "Ho, `glom()` le:\n",
    "\n",
    "* har partition lai → `list` banāuncha.\n",
    "* jun list ma tyo partition bhitra ko sabai elements huncha.\n",
    "\n",
    "> Yo le partition ko elements haru lai euta chunk/list ma convert garera dekhāu cha, jasto ki:\n",
    "> \"From *n* elements in a partition → make a **list of those n elements** as a single item in new RDD\".\n",
    "\n",
    "---\n",
    "\n",
    "## 🔧 Kahile useful huncha?\n",
    "\n",
    "* **Debugging**: kun partition ma kati data cha herna.\n",
    "* **Group-wise processing**: ekchoti pura partition ma operation garnu cha bhane.\n",
    "* For example: `rdd.glom().map(lambda x: sum(x)).collect()` → each partition ko sum.\n",
    "\n",
    "---\n",
    "\n",
    "## ✅ Summary in Nepali:\n",
    "\n",
    "* `glom()` Spark ko transformation ho.\n",
    "* Yo le har partition ko data lai euta list ma halera naya RDD banaucha.\n",
    "* Nai RDD ko har element list huncha (i.e., list of elements in a partition).\n",
    "* Useful cha when you want to do operations on full partitions.\n",
    "\n",
    "---\n",
    "\n",
    "Chahe bhane ma animation or visual diagram jasto kura banaera dekhāuna sakchhu, bhaney — let me know!\n"
   ]
  },
  {
   "cell_type": "code",
   "execution_count": null,
   "id": "b0216a2e-906f-4cc3-a483-5e10451dd753",
   "metadata": {},
   "outputs": [],
   "source": [
    "# aaba yo rdd ma j pani operation garxau tyo yeuta array ma garni operation hunxa\n",
    "# yesari bhujam na pratyek partition ma 1 oota matrai element xa"
   ]
  },
  {
   "cell_type": "code",
   "execution_count": null,
   "id": "c734d696-1350-4bea-a27e-935592416f15",
   "metadata": {},
   "outputs": [],
   "source": []
  },
  {
   "cell_type": "code",
   "execution_count": null,
   "id": "35d405f7-57fc-4151-9b3e-80e9c17ba6cf",
   "metadata": {},
   "outputs": [],
   "source": []
  },
  {
   "cell_type": "code",
   "execution_count": 13,
   "id": "d7eafd7c-c631-4b18-b95b-e9837583f7d3",
   "metadata": {},
   "outputs": [],
   "source": [
    "rdd1=sc.parallelize([i for i in range(10)])"
   ]
  },
  {
   "cell_type": "code",
   "execution_count": 14,
   "id": "23c78a89-6254-448c-8bb9-f5542a0cd697",
   "metadata": {},
   "outputs": [],
   "source": [
    "rdd2=rdd1.glom()"
   ]
  },
  {
   "cell_type": "code",
   "execution_count": 15,
   "id": "8f9af3e5-22ec-45ec-b433-648d2269c9e8",
   "metadata": {},
   "outputs": [],
   "source": [
    "rdd3 = rdd2.map(lambda lst: [x + 1 for x in lst])"
   ]
  },
  {
   "cell_type": "code",
   "execution_count": 16,
   "id": "4cbf1a91-f701-4f8a-b074-5704759b414f",
   "metadata": {},
   "outputs": [
    {
     "name": "stderr",
     "output_type": "stream",
     "text": [
      "                                                                                "
     ]
    },
    {
     "data": {
      "text/plain": [
       "[[], [1], [2], [3], [4], [5], [], [6], [7], [8], [9], [10]]"
      ]
     },
     "execution_count": 16,
     "metadata": {},
     "output_type": "execute_result"
    }
   ],
   "source": [
    "rdd3.collect()"
   ]
  },
  {
   "cell_type": "code",
   "execution_count": null,
   "id": "a89b54e6-e0a6-4b63-8cba-c95827cec35f",
   "metadata": {},
   "outputs": [],
   "source": []
  },
  {
   "cell_type": "code",
   "execution_count": null,
   "id": "4ddad446-d16d-40f3-b30b-6058c2be025c",
   "metadata": {},
   "outputs": [],
   "source": []
  },
  {
   "cell_type": "code",
   "execution_count": null,
   "id": "66d1550e-3d96-4760-9ce0-7ac2d664527a",
   "metadata": {},
   "outputs": [],
   "source": []
  },
  {
   "cell_type": "code",
   "execution_count": null,
   "id": "82117076-14ff-46fb-9a3b-b54079745568",
   "metadata": {},
   "outputs": [],
   "source": []
  }
 ],
 "metadata": {
  "kernelspec": {
   "display_name": "Python 3 (ipykernel)",
   "language": "python",
   "name": "python3"
  },
  "language_info": {
   "codemirror_mode": {
    "name": "ipython",
    "version": 3
   },
   "file_extension": ".py",
   "mimetype": "text/x-python",
   "name": "python",
   "nbconvert_exporter": "python",
   "pygments_lexer": "ipython3",
   "version": "3.9.2"
  }
 },
 "nbformat": 4,
 "nbformat_minor": 5
}
