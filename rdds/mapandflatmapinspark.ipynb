{
 "cells": [
  {
   "cell_type": "code",
   "execution_count": 1,
   "id": "ba0ff860-45a7-425f-90ae-069b095f74c7",
   "metadata": {},
   "outputs": [
    {
     "name": "stderr",
     "output_type": "stream",
     "text": [
      "WARNING: Using incubator modules: jdk.incubator.vector\n",
      "Using Spark's default log4j profile: org/apache/spark/log4j2-defaults.properties\n",
      "Setting default log level to \"WARN\".\n",
      "To adjust logging level use sc.setLogLevel(newLevel). For SparkR, use setLogLevel(newLevel).\n",
      "25/06/23 13:25:24 WARN NativeCodeLoader: Unable to load native-hadoop library for your platform... using builtin-java classes where applicable\n"
     ]
    }
   ],
   "source": [
    "from pyspark.sql import SparkSession\n",
    "spark = SparkSession.builder \\\n",
    "    .appName(\"JupyterStandalone\") \\\n",
    "    .master(\"spark://8fa087ac675c:7077\") \\\n",
    "    .config(\"spark.executor.instances\", \"1\") \\\n",
    "    .config(\"spark.executor.cores\", \"2\") \\\n",
    "    .config(\"spark.executor.memory\", \"1g\") \\\n",
    "    .getOrCreate()\n",
    "sc = spark.sparkContext"
   ]
  },
  {
   "cell_type": "code",
   "execution_count": 2,
   "id": "b62f1aa0-00aa-4016-adbf-c33e7cad8353",
   "metadata": {},
   "outputs": [],
   "source": [
    "rdd1=sc.parallelize([i for i in range(10)])\n"
   ]
  },
  {
   "cell_type": "code",
   "execution_count": 3,
   "id": "b0bc442b-1606-4b51-80a1-2845b8c76ca3",
   "metadata": {},
   "outputs": [],
   "source": [
    "def return_single_value(x):\n",
    "    return 1"
   ]
  },
  {
   "cell_type": "code",
   "execution_count": 4,
   "id": "f816cbed-9eff-4bcb-aa71-ce6350f6bb29",
   "metadata": {},
   "outputs": [],
   "source": [
    "rdd2=rdd1.map(return_single_value)"
   ]
  },
  {
   "cell_type": "code",
   "execution_count": 5,
   "id": "df13282d-56ce-4fe7-9ca6-1517b47ea52f",
   "metadata": {},
   "outputs": [
    {
     "name": "stderr",
     "output_type": "stream",
     "text": [
      "                                                                                "
     ]
    },
    {
     "data": {
      "text/plain": [
       "[1, 1, 1, 1, 1, 1, 1, 1, 1, 1]"
      ]
     },
     "execution_count": 5,
     "metadata": {},
     "output_type": "execute_result"
    }
   ],
   "source": [
    "rdd2.collect()"
   ]
  },
  {
   "cell_type": "code",
   "execution_count": 6,
   "id": "5ba6114d-40de-4a5a-a82a-1334fd605fec",
   "metadata": {},
   "outputs": [],
   "source": [
    "# vanae xi auto wrap chai gardo rainxa hai as [[1],[1],[1]....] testo aa xaina so"
   ]
  },
  {
   "cell_type": "code",
   "execution_count": 7,
   "id": "0709a6e6-7098-4e6a-92ac-d58f506e99a3",
   "metadata": {},
   "outputs": [],
   "source": [
    "def return_nested_array(x):\n",
    "    return [[[[[[1,2,3]]]]]]"
   ]
  },
  {
   "cell_type": "code",
   "execution_count": 8,
   "id": "23a29d98-6017-4582-b43a-3e930aa43335",
   "metadata": {},
   "outputs": [],
   "source": [
    "rdd2=rdd1.map(return_nested_array)"
   ]
  },
  {
   "cell_type": "code",
   "execution_count": 9,
   "id": "bd133a78-bbd7-4739-82b6-427ce1b6abd8",
   "metadata": {},
   "outputs": [
    {
     "name": "stderr",
     "output_type": "stream",
     "text": [
      "                                                                                "
     ]
    },
    {
     "data": {
      "text/plain": [
       "[[[[[[[1, 2, 3]]]]]],\n",
       " [[[[[[1, 2, 3]]]]]],\n",
       " [[[[[[1, 2, 3]]]]]],\n",
       " [[[[[[1, 2, 3]]]]]],\n",
       " [[[[[[1, 2, 3]]]]]],\n",
       " [[[[[[1, 2, 3]]]]]],\n",
       " [[[[[[1, 2, 3]]]]]],\n",
       " [[[[[[1, 2, 3]]]]]],\n",
       " [[[[[[1, 2, 3]]]]]],\n",
       " [[[[[[1, 2, 3]]]]]]]"
      ]
     },
     "execution_count": 9,
     "metadata": {},
     "output_type": "execute_result"
    }
   ],
   "source": [
    "rdd2.collect()"
   ]
  },
  {
   "cell_type": "code",
   "execution_count": 11,
   "id": "96e88307-3470-4231-a40a-21e22f0f250f",
   "metadata": {},
   "outputs": [],
   "source": [
    "# now lets see how flatmap works\n",
    "rdd3=rdd1.flatMap(return_nested_array)"
   ]
  },
  {
   "cell_type": "code",
   "execution_count": 12,
   "id": "7b4e8b5f-4f20-4a77-90a1-13b0d3d62024",
   "metadata": {},
   "outputs": [
    {
     "name": "stderr",
     "output_type": "stream",
     "text": [
      "                                                                                "
     ]
    },
    {
     "data": {
      "text/plain": [
       "[[[[[[1, 2, 3]]]]],\n",
       " [[[[[1, 2, 3]]]]],\n",
       " [[[[[1, 2, 3]]]]],\n",
       " [[[[[1, 2, 3]]]]],\n",
       " [[[[[1, 2, 3]]]]],\n",
       " [[[[[1, 2, 3]]]]],\n",
       " [[[[[1, 2, 3]]]]],\n",
       " [[[[[1, 2, 3]]]]],\n",
       " [[[[[1, 2, 3]]]]],\n",
       " [[[[[1, 2, 3]]]]]]"
      ]
     },
     "execution_count": 12,
     "metadata": {},
     "output_type": "execute_result"
    }
   ],
   "source": [
    "rdd3.collect()"
   ]
  },
  {
   "cell_type": "code",
   "execution_count": 14,
   "id": "df7f3be3-e58a-48a2-9b66-0db17135c17a",
   "metadata": {},
   "outputs": [],
   "source": [
    "# so simply it removes a single bracket"
   ]
  },
  {
   "cell_type": "markdown",
   "id": "f8c45495-8de8-468a-b57c-dde850331bd1",
   "metadata": {},
   "source": [
    "# map vanae ko jailae pani 1 to 1 mapping hunxa\n",
    "\n",
    "so yeuta element lae definitly just produces 1 output always\n",
    "\n",
    "\n",
    "# flapmap lae 1 to many output ni produce garxa as yeuta bracket ta remove garni ho yellae"
   ]
  },
  {
   "cell_type": "code",
   "execution_count": 15,
   "id": "67ed46b1-67ac-48cb-aa8d-67fea66f03c0",
   "metadata": {},
   "outputs": [],
   "source": [
    "def return_list(x):\n",
    "    return [1,2,3]"
   ]
  },
  {
   "cell_type": "code",
   "execution_count": 16,
   "id": "96e282d4-869c-433b-8a6b-6e282a07f701",
   "metadata": {},
   "outputs": [
    {
     "name": "stderr",
     "output_type": "stream",
     "text": [
      "                                                                                "
     ]
    },
    {
     "data": {
      "text/plain": [
       "[[1, 2, 3],\n",
       " [1, 2, 3],\n",
       " [1, 2, 3],\n",
       " [1, 2, 3],\n",
       " [1, 2, 3],\n",
       " [1, 2, 3],\n",
       " [1, 2, 3],\n",
       " [1, 2, 3],\n",
       " [1, 2, 3],\n",
       " [1, 2, 3]]"
      ]
     },
     "execution_count": 16,
     "metadata": {},
     "output_type": "execute_result"
    }
   ],
   "source": [
    "rdd4=rdd1.map(return_list)\n",
    "rdd4.collect()"
   ]
  },
  {
   "cell_type": "code",
   "execution_count": 17,
   "id": "a589c7ad-2ef3-4eac-8e53-47a04c9f1ae3",
   "metadata": {},
   "outputs": [],
   "source": [
    "# so 1 to 1 mapping"
   ]
  },
  {
   "cell_type": "code",
   "execution_count": 18,
   "id": "78d15901-b22f-490d-8f81-3ec299b58a47",
   "metadata": {},
   "outputs": [
    {
     "data": {
      "text/plain": [
       "[1,\n",
       " 2,\n",
       " 3,\n",
       " 1,\n",
       " 2,\n",
       " 3,\n",
       " 1,\n",
       " 2,\n",
       " 3,\n",
       " 1,\n",
       " 2,\n",
       " 3,\n",
       " 1,\n",
       " 2,\n",
       " 3,\n",
       " 1,\n",
       " 2,\n",
       " 3,\n",
       " 1,\n",
       " 2,\n",
       " 3,\n",
       " 1,\n",
       " 2,\n",
       " 3,\n",
       " 1,\n",
       " 2,\n",
       " 3,\n",
       " 1,\n",
       " 2,\n",
       " 3]"
      ]
     },
     "execution_count": 18,
     "metadata": {},
     "output_type": "execute_result"
    }
   ],
   "source": [
    "rdd5=rdd1.flatMap(return_list)\n",
    "rdd5.collect()"
   ]
  },
  {
   "cell_type": "code",
   "execution_count": 19,
   "id": "ef123ae9-a142-443f-b308-331b03509c49",
   "metadata": {},
   "outputs": [],
   "source": [
    "# so one to many relations possible"
   ]
  },
  {
   "cell_type": "code",
   "execution_count": null,
   "id": "031be6ba-d9d3-4561-885e-9508f13e4b8c",
   "metadata": {},
   "outputs": [],
   "source": []
  }
 ],
 "metadata": {
  "kernelspec": {
   "display_name": "Python 3 (ipykernel)",
   "language": "python",
   "name": "python3"
  },
  "language_info": {
   "codemirror_mode": {
    "name": "ipython",
    "version": 3
   },
   "file_extension": ".py",
   "mimetype": "text/x-python",
   "name": "python",
   "nbconvert_exporter": "python",
   "pygments_lexer": "ipython3",
   "version": "3.9.2"
  }
 },
 "nbformat": 4,
 "nbformat_minor": 5
}
