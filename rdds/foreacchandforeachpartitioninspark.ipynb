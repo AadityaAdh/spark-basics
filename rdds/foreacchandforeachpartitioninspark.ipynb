{
 "cells": [
  {
   "cell_type": "code",
   "execution_count": 1,
   "id": "bcc20c12-5d9b-4124-9b11-d29e3c0a5848",
   "metadata": {},
   "outputs": [
    {
     "name": "stderr",
     "output_type": "stream",
     "text": [
      "WARNING: Using incubator modules: jdk.incubator.vector\n",
      "Using Spark's default log4j profile: org/apache/spark/log4j2-defaults.properties\n",
      "Setting default log level to \"WARN\".\n",
      "To adjust logging level use sc.setLogLevel(newLevel). For SparkR, use setLogLevel(newLevel).\n",
      "25/06/23 16:26:43 WARN NativeCodeLoader: Unable to load native-hadoop library for your platform... using builtin-java classes where applicable\n"
     ]
    }
   ],
   "source": [
    "from pyspark.sql import SparkSession\n",
    "spark = SparkSession.builder \\\n",
    "    .appName(\"JupyterStandalone\") \\\n",
    "    .master(\"spark://8fa087ac675c:7077\") \\\n",
    "    .config(\"spark.executor.instances\", \"1\") \\\n",
    "    .config(\"spark.executor.cores\", \"2\") \\\n",
    "    .config(\"spark.executor.memory\", \"1g\") \\\n",
    "    .getOrCreate()\n",
    "sc = spark.sparkContext"
   ]
  },
  {
   "cell_type": "code",
   "execution_count": 2,
   "id": "e50d07c9-42df-4091-a230-4e8e1c5315f3",
   "metadata": {},
   "outputs": [],
   "source": [
    "rdd1=sc.parallelize([1,2,3,4,5,6,7,8,9])"
   ]
  },
  {
   "cell_type": "code",
   "execution_count": 8,
   "id": "16c096c2-a5ef-483f-8e14-6c55ea1788c3",
   "metadata": {},
   "outputs": [],
   "source": [
    "acc=sc.accumulator(0)"
   ]
  },
  {
   "cell_type": "code",
   "execution_count": 9,
   "id": "c0ef8515-d522-4f9c-ae39-42788f5bc941",
   "metadata": {},
   "outputs": [],
   "source": [
    "def element_value(element):\n",
    "    acc.add(element)"
   ]
  },
  {
   "cell_type": "code",
   "execution_count": 10,
   "id": "9c82ea58-2960-4395-beb8-a0ed07a99f9b",
   "metadata": {},
   "outputs": [
    {
     "name": "stderr",
     "output_type": "stream",
     "text": [
      "                                                                                "
     ]
    }
   ],
   "source": [
    "rdd1.foreach(element_value)"
   ]
  },
  {
   "cell_type": "code",
   "execution_count": 12,
   "id": "b9da981c-c8cc-4c21-8835-06c0933e950e",
   "metadata": {},
   "outputs": [
    {
     "data": {
      "text/plain": [
       "45"
      ]
     },
     "execution_count": 12,
     "metadata": {},
     "output_type": "execute_result"
    }
   ],
   "source": [
    "acc.value"
   ]
  },
  {
   "cell_type": "code",
   "execution_count": 13,
   "id": "785ae917-4c0c-43da-bc0c-486cbaa1e8b7",
   "metadata": {},
   "outputs": [],
   "source": [
    "# note this is action not transformation\n",
    "# aaba aafnai logic lekhna milni vayo yesma\n"
   ]
  },
  {
   "cell_type": "code",
   "execution_count": 14,
   "id": "f84f2054-71fa-40d4-b9e2-ed950962073e",
   "metadata": {},
   "outputs": [],
   "source": [
    "def partition_wise(element):\n",
    "    acc.add(1)"
   ]
  },
  {
   "cell_type": "code",
   "execution_count": 15,
   "id": "ae230885-1580-43b2-af81-77c2001ebaf9",
   "metadata": {},
   "outputs": [],
   "source": [
    "rdd1.foreachPartition(partition_wise)"
   ]
  },
  {
   "cell_type": "code",
   "execution_count": 16,
   "id": "1377b6f2-e49e-4ad3-9ee5-19d9132e650a",
   "metadata": {},
   "outputs": [
    {
     "data": {
      "text/plain": [
       "57"
      ]
     },
     "execution_count": 16,
     "metadata": {},
     "output_type": "execute_result"
    }
   ],
   "source": [
    "acc.value"
   ]
  },
  {
   "cell_type": "code",
   "execution_count": 17,
   "id": "f1668282-6a55-4215-ad87-14f23bb7eb4c",
   "metadata": {},
   "outputs": [
    {
     "data": {
      "text/plain": [
       "12"
      ]
     },
     "execution_count": 17,
     "metadata": {},
     "output_type": "execute_result"
    }
   ],
   "source": [
    "rdd1.getNumPartitions()"
   ]
  },
  {
   "cell_type": "code",
   "execution_count": 18,
   "id": "aa1e5bf7-7540-4801-8a6e-bf707732a1e7",
   "metadata": {},
   "outputs": [],
   "source": [
    "# so partition jati oota xa tesma yo function lagni vayo yesma chai yo pani action ho"
   ]
  },
  {
   "cell_type": "code",
   "execution_count": null,
   "id": "3826b853-7815-4566-9ecc-017145e632e8",
   "metadata": {},
   "outputs": [],
   "source": []
  }
 ],
 "metadata": {
  "kernelspec": {
   "display_name": "Python 3 (ipykernel)",
   "language": "python",
   "name": "python3"
  },
  "language_info": {
   "codemirror_mode": {
    "name": "ipython",
    "version": 3
   },
   "file_extension": ".py",
   "mimetype": "text/x-python",
   "name": "python",
   "nbconvert_exporter": "python",
   "pygments_lexer": "ipython3",
   "version": "3.9.2"
  }
 },
 "nbformat": 4,
 "nbformat_minor": 5
}
