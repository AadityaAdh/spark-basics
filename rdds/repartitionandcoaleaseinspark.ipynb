{
 "cells": [
  {
   "cell_type": "code",
   "execution_count": 1,
   "id": "fb5938da-3a50-462c-b372-e94996232d49",
   "metadata": {},
   "outputs": [
    {
     "name": "stderr",
     "output_type": "stream",
     "text": [
      "WARNING: Using incubator modules: jdk.incubator.vector\n",
      "Using Spark's default log4j profile: org/apache/spark/log4j2-defaults.properties\n",
      "Setting default log level to \"WARN\".\n",
      "To adjust logging level use sc.setLogLevel(newLevel). For SparkR, use setLogLevel(newLevel).\n",
      "25/06/23 09:55:36 WARN NativeCodeLoader: Unable to load native-hadoop library for your platform... using builtin-java classes where applicable\n"
     ]
    }
   ],
   "source": [
    "from pyspark.sql import SparkSession\n",
    "spark = SparkSession.builder \\\n",
    "    .appName(\"JupyterStandalone\") \\\n",
    "    .master(\"spark://8fa087ac675c:7077\") \\\n",
    "    .config(\"spark.executor.instances\", \"1\") \\\n",
    "    .config(\"spark.executor.cores\", \"2\") \\\n",
    "    .config(\"spark.executor.memory\", \"1g\") \\\n",
    "    .getOrCreate()\n",
    "sc = spark.sparkContext"
   ]
  },
  {
   "cell_type": "code",
   "execution_count": 2,
   "id": "1db932de-d995-462a-9d80-569dc690655b",
   "metadata": {},
   "outputs": [],
   "source": [
    "rdd1=sc.parallelize([i for i in range(20)])"
   ]
  },
  {
   "cell_type": "code",
   "execution_count": 3,
   "id": "699b08b6-f9c8-40ed-bb3e-e8677048b486",
   "metadata": {},
   "outputs": [
    {
     "data": {
      "text/plain": [
       "12"
      ]
     },
     "execution_count": 3,
     "metadata": {},
     "output_type": "execute_result"
    }
   ],
   "source": [
    "rdd1.getNumPartitions()"
   ]
  },
  {
   "cell_type": "code",
   "execution_count": 4,
   "id": "0cbb43b8-107b-4248-ae00-f9f6c52a3271",
   "metadata": {},
   "outputs": [
    {
     "name": "stderr",
     "output_type": "stream",
     "text": [
      "                                                                                "
     ]
    },
    {
     "data": {
      "text/plain": [
       "[[0],\n",
       " [1, 2],\n",
       " [3, 4],\n",
       " [5],\n",
       " [6, 7],\n",
       " [8, 9],\n",
       " [10],\n",
       " [11, 12],\n",
       " [13, 14],\n",
       " [15],\n",
       " [16, 17],\n",
       " [18, 19]]"
      ]
     },
     "execution_count": 4,
     "metadata": {},
     "output_type": "execute_result"
    }
   ],
   "source": [
    "rdd1.glom().collect()"
   ]
  },
  {
   "cell_type": "markdown",
   "id": "15d9cb8e-c191-4d43-a50f-518520898921",
   "metadata": {},
   "source": [
    "# repartition \n",
    "\n",
    "can increase or decrease the number of partitions when we are doing that it will shuffle your data as well\n",
    "\n"
   ]
  },
  {
   "cell_type": "code",
   "execution_count": null,
   "id": "048ddc9b-c92f-41a6-842b-2cc5166bd5db",
   "metadata": {},
   "outputs": [],
   "source": []
  },
  {
   "cell_type": "code",
   "execution_count": null,
   "id": "50459e67-7b01-4ed9-891a-60c81bd4c7a0",
   "metadata": {},
   "outputs": [],
   "source": []
  },
  {
   "cell_type": "code",
   "execution_count": null,
   "id": "3632ec13-5f6c-4a90-af9d-fac87986ae3e",
   "metadata": {},
   "outputs": [],
   "source": []
  },
  {
   "cell_type": "code",
   "execution_count": null,
   "id": "d71e852b-ee73-4342-b289-8cc6205fa3d4",
   "metadata": {},
   "outputs": [],
   "source": []
  },
  {
   "cell_type": "code",
   "execution_count": 7,
   "id": "f9f0d01d-acf1-469b-8d00-fb30ff377355",
   "metadata": {},
   "outputs": [
    {
     "name": "stderr",
     "output_type": "stream",
     "text": [
      "                                                                                "
     ]
    },
    {
     "data": {
      "text/plain": [
       "[[16, 17],\n",
       " [11, 12, 10],\n",
       " [],\n",
       " [18, 19],\n",
       " [1, 2, 6, 7],\n",
       " [],\n",
       " [13, 14, 8, 9],\n",
       " [],\n",
       " [5],\n",
       " [15, 3, 4, 0]]"
      ]
     },
     "execution_count": 7,
     "metadata": {},
     "output_type": "execute_result"
    }
   ],
   "source": [
    "rdd2=rdd1.repartition(10)\n",
    "rdd2.glom().collect()"
   ]
  },
  {
   "cell_type": "markdown",
   "id": "309dd7bc-068f-4a7c-987e-bb3fe629aa60",
   "metadata": {},
   "source": [
    "# purai data shuffle vayo aani tes paxi 10 oota partition ma gayo\n",
    "\n",
    "notice yekdam uneven partitioning xa katai 0 element katai 4,katai 1,katai 2 element xan"
   ]
  },
  {
   "cell_type": "code",
   "execution_count": null,
   "id": "fcf8a59d-ce28-481d-a599-c1d4b1585967",
   "metadata": {},
   "outputs": [],
   "source": []
  },
  {
   "cell_type": "code",
   "execution_count": null,
   "id": "b1100b1b-95a5-47ee-8960-37959f6d13da",
   "metadata": {},
   "outputs": [],
   "source": []
  },
  {
   "cell_type": "code",
   "execution_count": null,
   "id": "4293f275-ea8a-4ae2-a50f-5fb9c1295d26",
   "metadata": {},
   "outputs": [],
   "source": []
  },
  {
   "cell_type": "code",
   "execution_count": null,
   "id": "ad94507f-5c6c-4a61-9c9d-7d2f5ef6ab63",
   "metadata": {},
   "outputs": [],
   "source": []
  },
  {
   "cell_type": "code",
   "execution_count": null,
   "id": "6ee9bdcf-837f-4914-bbf2-a81641d14be2",
   "metadata": {},
   "outputs": [],
   "source": []
  },
  {
   "cell_type": "markdown",
   "id": "51d738b0-4038-4e8b-aa3f-f558fc7e241e",
   "metadata": {},
   "source": [
    "# coalease \n",
    "\n",
    "shuffle shuffle kei gardaina yeuta partition ko data lagae ra aarko ma rakhxa\n",
    "\n",
    "so only we can reduce partition with this"
   ]
  },
  {
   "cell_type": "code",
   "execution_count": 12,
   "id": "6a50a368-7d95-48b8-bebf-ee4448e2bcb8",
   "metadata": {},
   "outputs": [
    {
     "data": {
      "text/plain": [
       "[[0, 1, 2],\n",
       " [3, 4, 5],\n",
       " [6, 7, 8, 9, 10],\n",
       " [11, 12, 13, 14],\n",
       " [15, 16, 17, 18, 19]]"
      ]
     },
     "execution_count": 12,
     "metadata": {},
     "output_type": "execute_result"
    }
   ],
   "source": [
    "rdd3=rdd1.coalesce(5)\n",
    "rdd3.glom().collect()"
   ]
  },
  {
   "cell_type": "code",
   "execution_count": 11,
   "id": "e597b761-a8a2-4a23-a8b5-10878dac6f94",
   "metadata": {},
   "outputs": [
    {
     "name": "stderr",
     "output_type": "stream",
     "text": [
      "                                                                                "
     ]
    },
    {
     "data": {
      "text/plain": [
       "[[0],\n",
       " [1, 2],\n",
       " [3, 4],\n",
       " [5],\n",
       " [6, 7],\n",
       " [8, 9],\n",
       " [10],\n",
       " [11, 12],\n",
       " [13, 14],\n",
       " [15],\n",
       " [16, 17],\n",
       " [18, 19]]"
      ]
     },
     "execution_count": 11,
     "metadata": {},
     "output_type": "execute_result"
    }
   ],
   "source": [
    "rdd1.glom().collect()"
   ]
  },
  {
   "cell_type": "markdown",
   "id": "c0d1b30b-0890-4c94-813e-80bd0756548f",
   "metadata": {},
   "source": [
    "# notice garnu parni kura xa yaa\n",
    "\n",
    "colease le adjacent lai chai merge garxa hai\n",
    "\n",
    "sang sang vako lai merge garxa\n",
    "\n",
    "so last ko oodae ra 1st sanga merge hunnxa\n",
    "\n",
    "last ko secund last sanga merge huna khojxa\n",
    "\n",
    "yedi 1st ko last sanga testo merge vaidyo vanae ta shuffling kind of effect ni aai halxa so no point of coalease"
   ]
  },
  {
   "cell_type": "code",
   "execution_count": null,
   "id": "062f74a5-04ff-4745-af8a-e9d05e7bb818",
   "metadata": {},
   "outputs": [],
   "source": []
  }
 ],
 "metadata": {
  "kernelspec": {
   "display_name": "Python 3 (ipykernel)",
   "language": "python",
   "name": "python3"
  },
  "language_info": {
   "codemirror_mode": {
    "name": "ipython",
    "version": 3
   },
   "file_extension": ".py",
   "mimetype": "text/x-python",
   "name": "python",
   "nbconvert_exporter": "python",
   "pygments_lexer": "ipython3",
   "version": "3.9.2"
  }
 },
 "nbformat": 4,
 "nbformat_minor": 5
}
