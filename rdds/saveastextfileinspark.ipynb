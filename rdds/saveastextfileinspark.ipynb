{
 "cells": [
  {
   "cell_type": "code",
   "execution_count": 1,
   "id": "a008c5f2-3979-4cc1-bbf8-2af8cbdf6c2a",
   "metadata": {},
   "outputs": [
    {
     "name": "stderr",
     "output_type": "stream",
     "text": [
      "WARNING: Using incubator modules: jdk.incubator.vector\n",
      "Using Spark's default log4j profile: org/apache/spark/log4j2-defaults.properties\n",
      "Setting default log level to \"WARN\".\n",
      "To adjust logging level use sc.setLogLevel(newLevel). For SparkR, use setLogLevel(newLevel).\n",
      "25/06/23 13:55:23 WARN NativeCodeLoader: Unable to load native-hadoop library for your platform... using builtin-java classes where applicable\n"
     ]
    }
   ],
   "source": [
    "from pyspark.sql import SparkSession\n",
    "spark = SparkSession.builder \\\n",
    "    .appName(\"JupyterStandalone\") \\\n",
    "    .master(\"spark://8fa087ac675c:7077\") \\\n",
    "    .config(\"spark.executor.instances\", \"1\") \\\n",
    "    .config(\"spark.executor.cores\", \"2\") \\\n",
    "    .config(\"spark.executor.memory\", \"1g\") \\\n",
    "    .getOrCreate()\n",
    "sc = spark.sparkContext"
   ]
  },
  {
   "cell_type": "markdown",
   "id": "0fbfb470-b7bf-4001-bfa9-6597d6094de4",
   "metadata": {},
   "source": [
    "we demonstrate the simple .saveAsTextFile() method. This will write the data to simple text files where the .toString() method is called on each RDD element and one element is written per line. The number of files output is equal to the the number of partitions of the RDD being saved. In this sample, the RDD is repartitioned to control the number of output files."
   ]
  },
  {
   "cell_type": "markdown",
   "id": "ac904b88-5165-4c8c-bc02-0a0c377c2d25",
   "metadata": {},
   "source": [
    "# saveastext file le k garxa vanae\n",
    "\n",
    "as rdd in variuos partitions in various executors\n",
    "\n",
    "\n",
    "now pratyek executor le aafno local file system ma rdd ko partition store garxa teti ho\n",
    "\n",
    "so exec1 le aafno partition store garxa\n",
    "\n",
    "2 le aafno partition  \n",
    "\n",
    "3 le aafno partition\n",
    "\n",
    "teti ho \n",
    "\n",
    "aaba hamlae gayae ra herna ni milxa tyo file lai yesko partition ma k k raixa"
   ]
  },
  {
   "cell_type": "code",
   "execution_count": null,
   "id": "9eb7144f-f48a-49f9-8e79-dfb9f6d44ef4",
   "metadata": {},
   "outputs": [],
   "source": []
  }
 ],
 "metadata": {
  "kernelspec": {
   "display_name": "Python 3 (ipykernel)",
   "language": "python",
   "name": "python3"
  },
  "language_info": {
   "codemirror_mode": {
    "name": "ipython",
    "version": 3
   },
   "file_extension": ".py",
   "mimetype": "text/x-python",
   "name": "python",
   "nbconvert_exporter": "python",
   "pygments_lexer": "ipython3",
   "version": "3.9.2"
  }
 },
 "nbformat": 4,
 "nbformat_minor": 5
}
